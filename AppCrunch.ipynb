{
 "cells": [
  {
   "cell_type": "markdown",
   "metadata": {},
   "source": [
    "# Welcome!\n",
    "\n",
    "Let's start this project by importing all the libraries we need, including *NumPy, Pandas, Matplotlib, and Sci-Kit Learn!*"
   ]
  },
  {
   "cell_type": "code",
   "execution_count": 656,
   "metadata": {},
   "outputs": [],
   "source": [
    "# let's import any libraries that we need\n",
    "import numpy as np\n",
    "import pandas as pd\n",
    "import seaborn as sns\n",
    "import matplotlib.pyplot as plt\n",
    "from sklearn.linear_model import RidgeCV\n",
    "from sklearn.pipeline import make_pipeline\n",
    "from sklearn.metrics import mean_squared_error\n",
    "from sklearn.preprocessing import StandardScaler\n",
    "from sklearn.linear_model import LinearRegression\n",
    "from sklearn.model_selection import train_test_split\n",
    "from sklearn.preprocessing import PolynomialFeatures"
   ]
  },
  {
   "cell_type": "markdown",
   "metadata": {},
   "source": [
    "Now we're going to want to load in our dataset, reset the index (to avoid a intermittent error), and print out the first few lines."
   ]
  },
  {
   "cell_type": "code",
   "execution_count": 657,
   "metadata": {},
   "outputs": [
    {
     "data": {
      "text/html": [
       "<div>\n",
       "<style scoped>\n",
       "    .dataframe tbody tr th:only-of-type {\n",
       "        vertical-align: middle;\n",
       "    }\n",
       "\n",
       "    .dataframe tbody tr th {\n",
       "        vertical-align: top;\n",
       "    }\n",
       "\n",
       "    .dataframe thead th {\n",
       "        text-align: right;\n",
       "    }\n",
       "</style>\n",
       "<table border=\"1\" class=\"dataframe\">\n",
       "  <thead>\n",
       "    <tr style=\"text-align: right;\">\n",
       "      <th></th>\n",
       "      <th>id</th>\n",
       "      <th>track_name</th>\n",
       "      <th>size_bytes</th>\n",
       "      <th>currency</th>\n",
       "      <th>price</th>\n",
       "      <th>rating_count_tot</th>\n",
       "      <th>rating_count_ver</th>\n",
       "      <th>user_rating</th>\n",
       "      <th>user_rating_ver</th>\n",
       "      <th>ver</th>\n",
       "      <th>cont_rating</th>\n",
       "      <th>prime_genre</th>\n",
       "      <th>sup_devices.num</th>\n",
       "      <th>ipadSc_urls.num</th>\n",
       "      <th>lang.num</th>\n",
       "      <th>vpp_lic</th>\n",
       "    </tr>\n",
       "  </thead>\n",
       "  <tbody>\n",
       "    <tr>\n",
       "      <th>1</th>\n",
       "      <td>281656475</td>\n",
       "      <td>PAC-MAN Premium</td>\n",
       "      <td>100788224</td>\n",
       "      <td>USD</td>\n",
       "      <td>3.99</td>\n",
       "      <td>21292</td>\n",
       "      <td>26</td>\n",
       "      <td>4.0</td>\n",
       "      <td>4.5</td>\n",
       "      <td>6.3.5</td>\n",
       "      <td>4+</td>\n",
       "      <td>Games</td>\n",
       "      <td>38</td>\n",
       "      <td>5</td>\n",
       "      <td>10</td>\n",
       "      <td>1</td>\n",
       "    </tr>\n",
       "    <tr>\n",
       "      <th>2</th>\n",
       "      <td>281796108</td>\n",
       "      <td>Evernote - stay organized</td>\n",
       "      <td>158578688</td>\n",
       "      <td>USD</td>\n",
       "      <td>0.00</td>\n",
       "      <td>161065</td>\n",
       "      <td>26</td>\n",
       "      <td>4.0</td>\n",
       "      <td>3.5</td>\n",
       "      <td>8.2.2</td>\n",
       "      <td>4+</td>\n",
       "      <td>Productivity</td>\n",
       "      <td>37</td>\n",
       "      <td>5</td>\n",
       "      <td>23</td>\n",
       "      <td>1</td>\n",
       "    </tr>\n",
       "    <tr>\n",
       "      <th>3</th>\n",
       "      <td>281940292</td>\n",
       "      <td>WeatherBug - Local Weather, Radar, Maps, Alerts</td>\n",
       "      <td>100524032</td>\n",
       "      <td>USD</td>\n",
       "      <td>0.00</td>\n",
       "      <td>188583</td>\n",
       "      <td>2822</td>\n",
       "      <td>3.5</td>\n",
       "      <td>4.5</td>\n",
       "      <td>5.0.0</td>\n",
       "      <td>4+</td>\n",
       "      <td>Weather</td>\n",
       "      <td>37</td>\n",
       "      <td>5</td>\n",
       "      <td>3</td>\n",
       "      <td>1</td>\n",
       "    </tr>\n",
       "    <tr>\n",
       "      <th>4</th>\n",
       "      <td>282614216</td>\n",
       "      <td>eBay: Best App to Buy, Sell, Save! Online Shop...</td>\n",
       "      <td>128512000</td>\n",
       "      <td>USD</td>\n",
       "      <td>0.00</td>\n",
       "      <td>262241</td>\n",
       "      <td>649</td>\n",
       "      <td>4.0</td>\n",
       "      <td>4.5</td>\n",
       "      <td>5.10.0</td>\n",
       "      <td>12+</td>\n",
       "      <td>Shopping</td>\n",
       "      <td>37</td>\n",
       "      <td>5</td>\n",
       "      <td>9</td>\n",
       "      <td>1</td>\n",
       "    </tr>\n",
       "    <tr>\n",
       "      <th>5</th>\n",
       "      <td>282935706</td>\n",
       "      <td>Bible</td>\n",
       "      <td>92774400</td>\n",
       "      <td>USD</td>\n",
       "      <td>0.00</td>\n",
       "      <td>985920</td>\n",
       "      <td>5320</td>\n",
       "      <td>4.5</td>\n",
       "      <td>5.0</td>\n",
       "      <td>7.5.1</td>\n",
       "      <td>4+</td>\n",
       "      <td>Reference</td>\n",
       "      <td>37</td>\n",
       "      <td>5</td>\n",
       "      <td>45</td>\n",
       "      <td>1</td>\n",
       "    </tr>\n",
       "  </tbody>\n",
       "</table>\n",
       "</div>"
      ],
      "text/plain": [
       "          id                                         track_name  size_bytes  \\\n",
       "1  281656475                                    PAC-MAN Premium   100788224   \n",
       "2  281796108                          Evernote - stay organized   158578688   \n",
       "3  281940292    WeatherBug - Local Weather, Radar, Maps, Alerts   100524032   \n",
       "4  282614216  eBay: Best App to Buy, Sell, Save! Online Shop...   128512000   \n",
       "5  282935706                                              Bible    92774400   \n",
       "\n",
       "  currency  price  rating_count_tot  rating_count_ver  user_rating  \\\n",
       "1      USD   3.99             21292                26          4.0   \n",
       "2      USD   0.00            161065                26          4.0   \n",
       "3      USD   0.00            188583              2822          3.5   \n",
       "4      USD   0.00            262241               649          4.0   \n",
       "5      USD   0.00            985920              5320          4.5   \n",
       "\n",
       "   user_rating_ver     ver cont_rating   prime_genre  sup_devices.num  \\\n",
       "1              4.5   6.3.5          4+         Games               38   \n",
       "2              3.5   8.2.2          4+  Productivity               37   \n",
       "3              4.5   5.0.0          4+       Weather               37   \n",
       "4              4.5  5.10.0         12+      Shopping               37   \n",
       "5              5.0   7.5.1          4+     Reference               37   \n",
       "\n",
       "   ipadSc_urls.num  lang.num  vpp_lic  \n",
       "1                5        10        1  \n",
       "2                5        23        1  \n",
       "3                5         3        1  \n",
       "4                5         9        1  \n",
       "5                5        45        1  "
      ]
     },
     "execution_count": 657,
     "metadata": {},
     "output_type": "execute_result"
    }
   ],
   "source": [
    "df = pd.read_csv('data/AppleStore.csv', index_col=0)\n",
    "df.reset_index()\n",
    "df.head()"
   ]
  },
  {
   "cell_type": "markdown",
   "metadata": {},
   "source": [
    "Great, we have our data, now let's remove some rows that we won't be needing. We don't need the app's ID, how big of file it is, what version it's on, etc...\n",
    "\n",
    "Let's also use the info() function to see what our data-cleaning might involve."
   ]
  },
  {
   "cell_type": "code",
   "execution_count": 658,
   "metadata": {},
   "outputs": [
    {
     "name": "stdout",
     "output_type": "stream",
     "text": [
      "<class 'pandas.core.frame.DataFrame'>\n",
      "Int64Index: 7197 entries, 1 to 11097\n",
      "Data columns (total 8 columns):\n",
      "price               7197 non-null float64\n",
      "rating_count_tot    7197 non-null int64\n",
      "user_rating         7197 non-null float64\n",
      "cont_rating         7197 non-null object\n",
      "prime_genre         7197 non-null object\n",
      "sup_devices.num     7197 non-null int64\n",
      "ipadSc_urls.num     7197 non-null int64\n",
      "lang.num            7197 non-null int64\n",
      "dtypes: float64(2), int64(4), object(2)\n",
      "memory usage: 506.0+ KB\n"
     ]
    }
   ],
   "source": [
    "df = df.drop(columns=['id','size_bytes','currency','rating_count_ver','user_rating_ver','ver','vpp_lic','track_name'])\n",
    "df.info()"
   ]
  },
  {
   "cell_type": "markdown",
   "metadata": {},
   "source": [
    "Sweet, no data cleaning needed! Let's make a histogram of what category each of the apps fall into... huh, looks like a lot of games on the App Store!"
   ]
  },
  {
   "cell_type": "code",
   "execution_count": 659,
   "metadata": {},
   "outputs": [
    {
     "data": {
      "image/png": "[encoded data removed]",
      "text/plain": [
       "<Figure size 432x288 with 1 Axes>"
      ]
     },
     "metadata": {
      "needs_background": "light"
     },
     "output_type": "display_data"
    }
   ],
   "source": [
    "df['prime_genre'].value_counts().plot(kind='bar');"
   ]
  },
  {
   "cell_type": "markdown",
   "metadata": {},
   "source": [
    "Let's one-hot the genre of the app (game, education, social networking, etc...) and the content rating (4 years and older, 17 years and older, etc...). Then, let's set our y-array to be the user_ratings of the apps, since that is what we eventually want to predict. Lastly, let's drop the columns that we one-hotted and print out some info on our new dataframes."
   ]
  },
  {
   "cell_type": "code",
   "execution_count": 660,
   "metadata": {},
   "outputs": [
    {
     "name": "stdout",
     "output_type": "stream",
     "text": [
      "Numerical data: \n",
      "<class 'pandas.core.frame.DataFrame'>\n",
      "Int64Index: 7197 entries, 1 to 11097\n",
      "Data columns (total 6 columns):\n",
      "price               7197 non-null float64\n",
      "rating_count_tot    7197 non-null int64\n",
      "user_rating         7197 non-null float64\n",
      "sup_devices.num     7197 non-null int64\n",
      "ipadSc_urls.num     7197 non-null int64\n",
      "lang.num            7197 non-null int64\n",
      "dtypes: float64(2), int64(4)\n",
      "memory usage: 713.6 KB\n",
      "None\n",
      "Categorical data: \n",
      "<class 'pandas.core.frame.DataFrame'>\n",
      "Int64Index: 7197 entries, 1 to 11097\n",
      "Data columns (total 27 columns):\n",
      "Book                 7197 non-null uint8\n",
      "Business             7197 non-null uint8\n",
      "Catalogs             7197 non-null uint8\n",
      "Education            7197 non-null uint8\n",
      "Entertainment        7197 non-null uint8\n",
      "Finance              7197 non-null uint8\n",
      "Food & Drink         7197 non-null uint8\n",
      "Games                7197 non-null uint8\n",
      "Health & Fitness     7197 non-null uint8\n",
      "Lifestyle            7197 non-null uint8\n",
      "Medical              7197 non-null uint8\n",
      "Music                7197 non-null uint8\n",
      "Navigation           7197 non-null uint8\n",
      "News                 7197 non-null uint8\n",
      "Photo & Video        7197 non-null uint8\n",
      "Productivity         7197 non-null uint8\n",
      "Reference            7197 non-null uint8\n",
      "Shopping             7197 non-null uint8\n",
      "Social Networking    7197 non-null uint8\n",
      "Sports               7197 non-null uint8\n",
      "Travel               7197 non-null uint8\n",
      "Utilities            7197 non-null uint8\n",
      "Weather              7197 non-null uint8\n",
      "12+                  7197 non-null uint8\n",
      "17+                  7197 non-null uint8\n",
      "4+                   7197 non-null uint8\n",
      "9+                   7197 non-null uint8\n",
      "dtypes: uint8(27)\n",
      "memory usage: 566.0 KB\n",
      "None\n"
     ]
    }
   ],
   "source": [
    "# one hot the genre of the app (game, education, social networking, etc...)\n",
    "one_hot = pd.get_dummies(df['prime_genre'])\n",
    "one_hot2 = pd.get_dummies(df['cont_rating'])\n",
    "one_hot = one_hot.join(one_hot2)\n",
    "\n",
    "y = df['user_rating']\n",
    "\n",
    "# drop the categorical and target variables so that all that is left in df is explanatory numerical variables\n",
    "df = df.drop(columns = ['prime_genre', 'cont_rating'])\n",
    "\n",
    "# Great! Now we have all numerical data\n",
    "# let's see our new columns\n",
    "print(\"Numerical data: \")\n",
    "print(df.info())\n",
    "print(\"Categorical data: \")\n",
    "print(one_hot.info())"
   ]
  },
  {
   "cell_type": "markdown",
   "metadata": {},
   "source": [
    "Let's try using a linear .corr() to see what type of correlation we get! Then let's extract the relevant features and print them out."
   ]
  },
  {
   "cell_type": "code",
   "execution_count": 661,
   "metadata": {},
   "outputs": [
    {
     "name": "stdout",
     "output_type": "stream",
     "text": [
      "user_rating         1.000000\n",
      "ipadSc_urls.num     0.265671\n",
      "lang.num            0.170976\n",
      "rating_count_tot    0.083310\n",
      "Name: user_rating, dtype: float64\n"
     ]
    }
   ],
   "source": [
    "corr = df.corr()['user_rating'].sort_values(ascending=False)\n",
    "relevant_features = corr[abs(corr) > 0.07]\n",
    "print(relevant_features.sort_values(ascending=False))"
   ]
  },
  {
   "cell_type": "markdown",
   "metadata": {},
   "source": [
    "Luckily we don't have a whole lot of features, which makes our sns pairplot super fast! Let's make that plot now."
   ]
  },
  {
   "cell_type": "code",
   "execution_count": 662,
   "metadata": {},
   "outputs": [
    {
     "data": {
      "image/png": "[encoded data removed]",
      "text/plain": [
       "<Figure size 432x288 with 20 Axes>"
      ]
     },
     "metadata": {
      "needs_background": "light"
     },
     "output_type": "display_data"
    }
   ],
   "source": [
    "sns.pairplot(df[relevant_features.index], height = 1, aspect=1.5);"
   ]
  },
  {
   "cell_type": "markdown",
   "metadata": {},
   "source": [
    "Let's run a linear regression on our data and see what we get:"
   ]
  },
  {
   "cell_type": "code",
   "execution_count": 663,
   "metadata": {
    "scrolled": true
   },
   "outputs": [
    {
     "name": "stdout",
     "output_type": "stream",
     "text": [
      "m = [ 7.97906197e-03  1.23396934e-06 -9.83910819e-03  1.90636970e-01\n",
      "  2.67671511e-02]\n",
      "b = 3.0126923594856105\n",
      "\n",
      "Adjusted R^2: 0.09710024406778606\n"
     ]
    }
   ],
   "source": [
    "X = df.drop('user_rating', axis = 1)\n",
    "\n",
    "model = LinearRegression()\n",
    "model.fit(X,y)\n",
    "\n",
    "print(f\"m = {model.coef_}\")\n",
    "print(f\"b = {model.intercept_}\")\n",
    "print()\n",
    "print(f\"Adjusted R^2: {1 - (1-model.score(X, y))*(len(y)-1)/(len(y)-X.shape[1]-1)}\")"
   ]
  },
  {
   "cell_type": "markdown",
   "metadata": {},
   "source": [
    "Hmm that last linear Adjusted R^2 looks pretty low... let's plot our data to see what's going on."
   ]
  },
  {
   "cell_type": "code",
   "execution_count": 664,
   "metadata": {},
   "outputs": [
    {
     "data": {
      "image/png": "[encoded data removed]",
      "text/plain": [
       "<Figure size 432x288 with 1 Axes>"
      ]
     },
     "metadata": {
      "needs_background": "light"
     },
     "output_type": "display_data"
    },
    {
     "data": {
      "image/png": "[encoded data removed]",
      "text/plain": [
       "<Figure size 432x288 with 1 Axes>"
      ]
     },
     "metadata": {
      "needs_background": "light"
     },
     "output_type": "display_data"
    },
    {
     "data": {
      "image/png": "[encoded data removed]",
      "text/plain": [
       "<Figure size 432x288 with 1 Axes>"
      ]
     },
     "metadata": {
      "needs_background": "light"
     },
     "output_type": "display_data"
    }
   ],
   "source": [
    "y_scatter = y\n",
    "\n",
    "ax = plt.subplot()\n",
    "x_scatter = X['ipadSc_urls.num']\n",
    "plt.scatter(x_scatter,y_scatter)\n",
    "plt.title('NUMER OF SCREEN SHOTS ON APP STORE')\n",
    "plt.show()\n",
    "\n",
    "ax = plt.subplot()\n",
    "x_scatter = X['lang.num']\n",
    "plt.scatter(x_scatter,y_scatter)\n",
    "plt.title('NUMER OF LANGUAGES SUPPORTED')\n",
    "plt.show()\n",
    "\n",
    "ax = plt.subplot()\n",
    "x_scatter = X['rating_count_tot']\n",
    "plt.scatter(x_scatter,y_scatter)\n",
    "plt.title('NUMER OF RATINGS')\n",
    "plt.show()"
   ]
  },
  {
   "cell_type": "markdown",
   "metadata": {},
   "source": [
    "Well, we've certainly got some odd looking data! Oh well, let's do our best with the polynomial regresson and see how it goes. Just for fun, let's try fitting a 4th degree polynomial to the number of languages supported:"
   ]
  },
  {
   "cell_type": "code",
   "execution_count": 665,
   "metadata": {},
   "outputs": [
    {
     "name": "stdout",
     "output_type": "stream",
     "text": [
      "3.1011097619142647\n",
      "[ 0.00000000e+00  1.60378392e-01 -7.74977341e-03  1.29608542e-04\n",
      " -6.83061254e-07]\n"
     ]
    },
    {
     "data": {
      "image/png": "[encoded data removed]",
      "text/plain": [
       "<Figure size 432x288 with 1 Axes>"
      ]
     },
     "metadata": {
      "needs_background": "light"
     },
     "output_type": "display_data"
    }
   ],
   "source": [
    "# Set up the plot\n",
    "fig,ax = plt.subplots(1,1)\n",
    "\n",
    "x_data = X['lang.num']\n",
    "y_data = y\n",
    "x_data = x_data[:, np.newaxis]\n",
    "\n",
    "# Set the degree of our polynomial and fit the model\n",
    "degree = 4\n",
    "model = make_pipeline(PolynomialFeatures(degree), LinearRegression())\n",
    "model.fit(x_data, y_data)\n",
    "print(model[1].intercept_)\n",
    "print(model[1].coef_)\n",
    "\n",
    "# Output the data\n",
    "plt.scatter(x_data,y_data)\n",
    "plt.title('NUMER OF LANGUAGES SUPPORTED')\n",
    "plt.plot(x_data, model.predict(x_data), '.', color='red', label=\"label\");"
   ]
  },
  {
   "cell_type": "markdown",
   "metadata": {},
   "source": [
    "Enough fun for now. Let's find what polynomial fits the numerical explanatory data the best (we'll do the one-hot data later)."
   ]
  },
  {
   "cell_type": "code",
   "execution_count": 666,
   "metadata": {},
   "outputs": [
    {
     "data": {
      "image/png": "[encoded data removed]",
      "text/plain": [
       "<Figure size 576x432 with 1 Axes>"
      ]
     },
     "metadata": {
      "needs_background": "light"
     },
     "output_type": "display_data"
    }
   ],
   "source": [
    "df = df.drop(columns = ['user_rating'])\n",
    "degrees = 4 # up to degree 4\n",
    "\n",
    "X_train, X_test, y_train, y_test = train_test_split(df, y, test_size=0.25) # 25% of the data goes to testing\n",
    "\n",
    "train_error = []\n",
    "test_error = []\n",
    "\n",
    "for degree in range(degrees): # itterate through each possible degree\n",
    "    model = make_pipeline(PolynomialFeatures(degree), LinearRegression())\n",
    "    model.fit(X_train, y_train)\n",
    "    train_error.append(mean_squared_error(y_train, model.predict(X_train)))\n",
    "    test_error.append(mean_squared_error(y_test, model.predict(X_test)))\n",
    "    \n",
    "# Plot the training and test errors against degree\n",
    "plt.figure(figsize=(8,6))\n",
    "plt.plot(np.arange(degrees), train_error, color='green', label='train')\n",
    "plt.plot(np.arange(degrees), test_error, color='red', label='test')\n",
    "plt.ylabel('mean squared error')\n",
    "plt.xlabel('degree')\n",
    "plt.xlim((-.5,3.5))\n",
    "plt.ylim((0,5))\n",
    "plt.legend(loc='upper left');"
   ]
  },
  {
   "cell_type": "markdown",
   "metadata": {},
   "source": [
    "Well, it looks like 2 is the best degree (since the train/test sets are random, it can sometimes look like 1). Because the error go up after 2, we won't use any higher powers. So now, let's use a polynomial of degree 2 to populate our dataframe with the original columns, columns squared, and interaction columns. The StandardScaler will then convert the numbers into Z-scores. Lastly, let's fit the data and print out the head."
   ]
  },
  {
   "cell_type": "code",
   "execution_count": 667,
   "metadata": {},
   "outputs": [
    {
     "name": "stdout",
     "output_type": "stream",
     "text": [
      "<class 'pandas.core.frame.DataFrame'>\n",
      "RangeIndex: 7197 entries, 0 to 7196\n",
      "Data columns (total 21 columns):\n",
      "0     7197 non-null float64\n",
      "1     7197 non-null float64\n",
      "2     7197 non-null float64\n",
      "3     7197 non-null float64\n",
      "4     7197 non-null float64\n",
      "5     7197 non-null float64\n",
      "6     7197 non-null float64\n",
      "7     7197 non-null float64\n",
      "8     7197 non-null float64\n",
      "9     7197 non-null float64\n",
      "10    7197 non-null float64\n",
      "11    7197 non-null float64\n",
      "12    7197 non-null float64\n",
      "13    7197 non-null float64\n",
      "14    7197 non-null float64\n",
      "15    7197 non-null float64\n",
      "16    7197 non-null float64\n",
      "17    7197 non-null float64\n",
      "18    7197 non-null float64\n",
      "19    7197 non-null float64\n",
      "20    7197 non-null float64\n",
      "dtypes: float64(21)\n",
      "memory usage: 1.2 MB\n"
     ]
    }
   ],
   "source": [
    "# Let's make a pipeline to create polynomial features, and scale the data (all in one line!)\n",
    "model = make_pipeline(PolynomialFeatures(2), StandardScaler())\n",
    "model.fit(df)\n",
    "transformed_X = pd.DataFrame(model.transform(df))\n",
    "\n",
    "# Let's print out what we've got\n",
    "transformed_X.info()"
   ]
  },
  {
   "cell_type": "markdown",
   "metadata": {},
   "source": [
    "Epic! Now, let's add back in those one_hot values that we've *almost* forgotten about!"
   ]
  },
  {
   "cell_type": "code",
   "execution_count": 668,
   "metadata": {},
   "outputs": [
    {
     "name": "stdout",
     "output_type": "stream",
     "text": [
      "<class 'pandas.core.frame.DataFrame'>\n",
      "Int64Index: 7197 entries, 0 to 7196\n",
      "Data columns (total 48 columns):\n",
      "Book                 7197 non-null uint8\n",
      "Business             7197 non-null uint8\n",
      "Catalogs             7197 non-null uint8\n",
      "Education            7197 non-null uint8\n",
      "Entertainment        7197 non-null uint8\n",
      "Finance              7197 non-null uint8\n",
      "Food & Drink         7197 non-null uint8\n",
      "Games                7197 non-null uint8\n",
      "Health & Fitness     7197 non-null uint8\n",
      "Lifestyle            7197 non-null uint8\n",
      "Medical              7197 non-null uint8\n",
      "Music                7197 non-null uint8\n",
      "Navigation           7197 non-null uint8\n",
      "News                 7197 non-null uint8\n",
      "Photo & Video        7197 non-null uint8\n",
      "Productivity         7197 non-null uint8\n",
      "Reference            7197 non-null uint8\n",
      "Shopping             7197 non-null uint8\n",
      "Social Networking    7197 non-null uint8\n",
      "Sports               7197 non-null uint8\n",
      "Travel               7197 non-null uint8\n",
      "Utilities            7197 non-null uint8\n",
      "Weather              7197 non-null uint8\n",
      "12+                  7197 non-null uint8\n",
      "17+                  7197 non-null uint8\n",
      "4+                   7197 non-null uint8\n",
      "9+                   7197 non-null uint8\n",
      "0                    7197 non-null float64\n",
      "1                    7197 non-null float64\n",
      "2                    7197 non-null float64\n",
      "3                    7197 non-null float64\n",
      "4                    7197 non-null float64\n",
      "5                    7197 non-null float64\n",
      "6                    7197 non-null float64\n",
      "7                    7197 non-null float64\n",
      "8                    7197 non-null float64\n",
      "9                    7197 non-null float64\n",
      "10                   7197 non-null float64\n",
      "11                   7197 non-null float64\n",
      "12                   7197 non-null float64\n",
      "13                   7197 non-null float64\n",
      "14                   7197 non-null float64\n",
      "15                   7197 non-null float64\n",
      "16                   7197 non-null float64\n",
      "17                   7197 non-null float64\n",
      "18                   7197 non-null float64\n",
      "19                   7197 non-null float64\n",
      "20                   7197 non-null float64\n",
      "dtypes: float64(21), uint8(27)\n",
      "memory usage: 1.7 MB\n"
     ]
    }
   ],
   "source": [
    "# first, we need to reset both of these indexes. This is a little messey, but it works for what we need.\n",
    "one_hot.index = range(len(one_hot.index))\n",
    "transformed_X.index = range(len(transformed_X.index))\n",
    "\n",
    "# Let's join our two DataFrames, and print out our new one to make sure it looks good.\n",
    "X = one_hot.join(transformed_X, how='outer')\n",
    "X.info()"
   ]
  },
  {
   "cell_type": "markdown",
   "metadata": {},
   "source": [
    "Looking great! Now we can actually run our RidgeCV regresson!"
   ]
  },
  {
   "cell_type": "code",
   "execution_count": 669,
   "metadata": {},
   "outputs": [
    {
     "name": "stdout",
     "output_type": "stream",
     "text": [
      "Score:  0.14931316265989836\n",
      "Intercept:  3.344241804776372\n",
      "Coefficients:  [-0.61711887  0.15460622 -0.94485767 -0.20481925  0.06643141 -0.43155147\n",
      "  0.13093605  0.16766004  0.38858189 -0.15365301  0.04219332  0.40340429\n",
      " -0.57739222 -0.03820886  0.35131622  0.46298432  0.05000685  0.49093104\n",
      "  0.00314916 -0.1804741   0.14736801  0.08822159  0.20028504  0.09428109\n",
      " -0.37838215  0.08874985  0.19535121  0.          0.16855196  0.498632\n",
      " -0.36123435 -0.06486447  0.11517428 -0.05979294  0.01287109  0.05842462\n",
      " -0.13215651 -0.01027929 -0.17886599 -0.03174538 -0.14481574 -0.14164848\n",
      "  0.26667599  0.1612851   0.41119283  0.27609638 -0.1050862  -0.25515127]\n"
     ]
    }
   ],
   "source": [
    "model = RidgeCV(cv=10, alphas = [0.00001,0.1,1])\n",
    "model.fit(X,y)\n",
    "\n",
    "print(\"Score: \", model.score(X,y))\n",
    "print(\"Intercept: \", model.intercept_)\n",
    "print(\"Coefficients: \", model.coef_)"
   ]
  },
  {
   "cell_type": "markdown",
   "metadata": {},
   "source": [
    "And there we have it! There's sure a lot of coefficients, but that's just because we have a whole lot of categorical and polynomial feature data."
   ]
  }
 ],
 "metadata": {
  "kernelspec": {
   "display_name": "Python 3",
   "language": "python",
   "name": "python3"
  },
  "language_info": {
   "codemirror_mode": {
    "name": "ipython",
    "version": 3
   },
   "file_extension": ".py",
   "mimetype": "text/x-python",
   "name": "python",
   "nbconvert_exporter": "python",
   "pygments_lexer": "ipython3",
   "version": "3.7.3"
  }
 },
 "nbformat": 4,
 "nbformat_minor": 2
}
